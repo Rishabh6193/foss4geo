{
 "cells": [
  {
   "cell_type": "code",
   "execution_count": 21,
   "metadata": {
    "collapsed": true
   },
   "outputs": [],
   "source": [
    "% matplotlib inline\n",
    "import os\n",
    "import shutil\n",
    "import math\n",
    "import rasterio\n",
    "import pandas as pd\n",
    "import geopandas as gpd\n",
    "from collections import defaultdict\n",
    "from shapely.geometry import Polygon\n",
    "from pprint import pprint"
   ]
  },
  {
   "cell_type": "code",
   "execution_count": 2,
   "metadata": {
    "collapsed": true
   },
   "outputs": [],
   "source": [
    "workdir = os.getcwd()\n",
    "rasterdir = os.path.join(\"gdal_mask\", \"raster\")\n",
    "rfile = \"Land_Use.tif\""
   ]
  },
  {
   "cell_type": "code",
   "execution_count": 3,
   "metadata": {
    "collapsed": true
   },
   "outputs": [],
   "source": [
    "with rasterio.open(os.path.join(rasterdir, rfile), 'r') as srcrast:\n",
    "    rcrs = srcrast.crs\n",
    "    rbounds = srcrast.bounds\n",
    "    rny, rnx = srcrast.shape\n",
    "    rdy, rdx = srcrast.res"
   ]
  },
  {
   "cell_type": "code",
   "execution_count": 4,
   "metadata": {
    "collapsed": true
   },
   "outputs": [],
   "source": [
    "vdx, vdy = 3000, 3000\n",
    "minx, miny, maxx, maxy = rbounds.left-vdx, rbounds.bottom-vdy, rbounds.right+vdx, rbounds.top+vdy"
   ]
  },
  {
   "cell_type": "code",
   "execution_count": 5,
   "metadata": {
    "collapsed": true
   },
   "outputs": [],
   "source": [
    "vnx = int(math.ceil(abs(maxx - minx)/vdx))\n",
    "vny = int(math.ceil(abs(maxy - miny)/vdy))"
   ]
  },
  {
   "cell_type": "code",
   "execution_count": 7,
   "metadata": {},
   "outputs": [],
   "source": [
    "polyid = 0\n",
    "temp_dict = defaultdict(list)\n",
    "for i in range(vny):\n",
    "    for j in range(vnx):\n",
    "        polyid += 1\n",
    "        vertices = []\n",
    "        vertices.append((min(minx+vdx*j,maxx),max(maxy-vdy*i,miny)))\n",
    "        vertices.append((min(minx+vdx*(j+1),maxx),max(maxy-vdy*i,miny)))\n",
    "        vertices.append((min(minx+vdx*(j+1),maxx),max(maxy-vdy*(i+1),miny)))\n",
    "        vertices.append((min(minx+vdx*j,maxx),max(maxy-vdy*(i+1),miny)))\n",
    "        temp_dict['id'].append(polyid)\n",
    "        temp_dict['geometry'].append(Polygon(vertices))"
   ]
  },
  {
   "cell_type": "code",
   "execution_count": 31,
   "metadata": {},
   "outputs": [],
   "source": [
    "gdf = gpd.GeoDataFrame(temp_dict, geometry='geometry')\n",
    "gdf.crs = rcrs.to_string()"
   ]
  },
  {
   "cell_type": "code",
   "execution_count": 35,
   "metadata": {},
   "outputs": [],
   "source": [
    "outdir = \"fishnet\"\n",
    "outpath = os.path.join(workdir, \"gdal_mask\", outdir)\n",
    "if os.path.exists(outpath):\n",
    "    shutil.rmtree(outpath)\n",
    "os.makedirs(outpath)\n",
    "outshpfile = \"rect_fishnet.shp\"\n",
    "outshpfpath = os.path.join(outpath, outshpfile)\n",
    "gdf.to_file(outshpfpath)"
   ]
  },
  {
   "cell_type": "code",
   "execution_count": 33,
   "metadata": {},
   "outputs": [
    {
     "data": {
      "text/plain": [
       "'/home/serenewizard/foss/gdal_mask/fishnet/fishnet'"
      ]
     },
     "execution_count": 33,
     "metadata": {},
     "output_type": "execute_result"
    }
   ],
   "source": [
    "outshpfpath"
   ]
  },
  {
   "cell_type": "code",
   "execution_count": null,
   "metadata": {
    "collapsed": true
   },
   "outputs": [],
   "source": []
  }
 ],
 "metadata": {
  "kernelspec": {
   "display_name": "Python 3",
   "language": "python",
   "name": "python3"
  },
  "language_info": {
   "codemirror_mode": {
    "name": "ipython",
    "version": 3
   },
   "file_extension": ".py",
   "mimetype": "text/x-python",
   "name": "python",
   "nbconvert_exporter": "python",
   "pygments_lexer": "ipython3",
   "version": "3.5.4"
  }
 },
 "nbformat": 4,
 "nbformat_minor": 2
}
