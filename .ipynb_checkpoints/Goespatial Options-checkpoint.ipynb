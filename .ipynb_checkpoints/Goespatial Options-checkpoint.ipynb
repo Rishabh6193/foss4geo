{
 "cells": [
  {
   "cell_type": "markdown",
   "metadata": {},
   "source": [
    "# FOSS4G for Geospatial Analysis\n",
    "## Introduction\n",
    "ArcGIS has been a staple in mapping and geospatial analysis world. But we have much more options than just ArcGIS for that purpose. \n",
    "**QuantumGIS (QGIS)** has been been providing a good open source alternative to ArcGIS. It provides both feature-rich mapping options and strong low-level geospatial analysis capabilities. Here, we will introudce some free and open source tools for executing geospatial operations. \n",
    "\n",
    "Python provides multiple APIs for geospatial analysis. "
   ]
  },
  {
   "cell_type": "code",
   "execution_count": 1,
   "metadata": {
    "collapsed": true
   },
   "outputs": [],
   "source": [
    "# Set up our workspace\n",
    "import os\n",
    "from pprint import pprint\n",
    "basedir = os.getcwd()"
   ]
  },
  {
   "cell_type": "markdown",
   "metadata": {},
   "source": [
    "## GDAL/OGR \n",
    "GDAL stands for [Geospatial Data Abstraction Library](http://www.gdal.org/), and is developed by Open Source Geospatial Foundation (). It has the capacity to read various vector and raster data formats. It consists of various libraries, written in C++ and distributed as free software. Various softwares and programming language provide APIs to carry out geospatial analysis using GDAL/OGR. "
   ]
  },
  {
   "cell_type": "markdown",
   "metadata": {},
   "source": [
    "### Using GDAL to veiw  Raster metadata\n",
    "Details of the function *gdalinfo* can be found in http://www.gdal.org/gdalinfo.html. "
   ]
  },
  {
   "cell_type": "code",
   "execution_count": 2,
   "metadata": {},
   "outputs": [
    {
     "name": "stdout",
     "output_type": "stream",
     "text": [
      "/home/serenewizard/foss\n",
      "Driver: GTiff/GeoTIFF\n",
      "Files: wshed_5597000_mask.tif\n",
      "Size is 1772, 2333\n",
      "Coordinate System is:\n",
      "PROJCS[\"Albers_Conical_Equal_Area\",\n",
      "    GEOGCS[\"NAD83\",\n",
      "        DATUM[\"North_American_Datum_1983\",\n",
      "            SPHEROID[\"GRS 1980\",6378137,298.2572221010042,\n",
      "                AUTHORITY[\"EPSG\",\"7019\"]],\n",
      "            AUTHORITY[\"EPSG\",\"6269\"]],\n",
      "        PRIMEM[\"Greenwich\",0],\n",
      "        UNIT[\"degree\",0.0174532925199433],\n",
      "        AUTHORITY[\"EPSG\",\"4269\"]],\n",
      "    PROJECTION[\"Albers_Conic_Equal_Area\"],\n",
      "    PARAMETER[\"standard_parallel_1\",29.5],\n",
      "    PARAMETER[\"standard_parallel_2\",45.5],\n",
      "    PARAMETER[\"latitude_of_center\",23],\n",
      "    PARAMETER[\"longitude_of_center\",-96],\n",
      "    PARAMETER[\"false_easting\",0],\n",
      "    PARAMETER[\"false_northing\",0],\n",
      "    UNIT[\"metre\",1,\n",
      "        AUTHORITY[\"EPSG\",\"9001\"]]]\n",
      "Origin = (587020.808808299363591,1741078.109686628216878)\n",
      "Pixel Size = (29.998935288175641,-29.994843750703179)\n",
      "Metadata:\n",
      "  AREA_OR_POINT=Area\n",
      "  DataType=Thematic\n",
      "Image Structure Metadata:\n",
      "  INTERLEAVE=BAND\n",
      "Corner Coordinates:\n",
      "Upper Left  (  587020.809, 1741078.110) ( 89d11'53.96\"W, 38d30'38.37\"N)\n",
      "Lower Left  (  587020.809, 1671100.139) ( 89d15'20.76\"W, 37d53'16.48\"N)\n",
      "Upper Right (  640178.922, 1741078.110) ( 88d35' 5.23\"W, 38d28'30.78\"N)\n",
      "Lower Right (  640178.922, 1671100.139) ( 88d38'50.54\"W, 37d51' 9.96\"N)\n",
      "Center      (  613599.865, 1706089.124) ( 88d55'17.81\"W, 38d10'55.30\"N)\n",
      "Band 1 Block=1772x4 Type=Byte, ColorInterp=Palette\n",
      "  NoData Value=255\n",
      "  Metadata:\n",
      "    RepresentationType=THEMATIC\n",
      "  Color Table (RGB with 256 entries)\n"
     ]
    }
   ],
   "source": [
    "%%bash\n",
    "pwd\n",
    "cd ./gdal_mask/raster\n",
    "gdalinfo -norat -noct *.tif"
   ]
  },
  {
   "cell_type": "markdown",
   "metadata": {},
   "source": [
    "### Using OGR to view Vector Metadata\n",
    "Details of the function *ogrinfo* can be found in http://www.gdal.org/ogrinfo.html. "
   ]
  },
  {
   "cell_type": "code",
   "execution_count": 3,
   "metadata": {},
   "outputs": [
    {
     "name": "stdout",
     "output_type": "stream",
     "text": [
      "/home/serenewizard/foss\n",
      "INFO: Open of `wshed_3380500.shp'\n",
      "      using driver `ESRI Shapefile' successful.\n",
      "\n",
      "Layer name: wshed_3380500\n",
      "Metadata:\n",
      "  DBF_DATE_LAST_UPDATE=2017-09-01\n",
      "Geometry: Polygon\n",
      "Feature Count: 1\n",
      "Extent: (334165.643546, 4242975.000000) - (366415.643546, 4296765.000000)\n",
      "Layer SRS WKT:\n",
      "PROJCS[\"NAD_1927_UTM_Zone_16N\",\n",
      "    GEOGCS[\"GCS_North_American_1927\",\n",
      "        DATUM[\"North_American_Datum_1927\",\n",
      "            SPHEROID[\"Clarke_1866\",6378206.4,294.9786982]],\n",
      "        PRIMEM[\"Greenwich\",0.0],\n",
      "        UNIT[\"Degree\",0.0174532925199433]],\n",
      "    PROJECTION[\"Transverse_Mercator\"],\n",
      "    PARAMETER[\"false_easting\",500000.0],\n",
      "    PARAMETER[\"false_northing\",0.0],\n",
      "    PARAMETER[\"central_meridian\",-87.0],\n",
      "    PARAMETER[\"scale_factor\",0.9996],\n",
      "    PARAMETER[\"latitude_of_origin\",0.0],\n",
      "    UNIT[\"Meter\",1.0]]\n",
      "ID: Integer64 (10.0)\n",
      "GRIDCODE: Integer64 (10.0)\n",
      "Area: Real (19.11)\n",
      "Land_Use: String (80.0)\n"
     ]
    }
   ],
   "source": [
    "%%bash\n",
    "pwd\n",
    "cd ./gdal_mask/vector\n",
    "ogrinfo -al -so wshed_3380500.shp"
   ]
  },
  {
   "cell_type": "markdown",
   "metadata": {},
   "source": [
    "## <font color=green> Geopandas </font> library in Python\n",
    "**Geopandas** is used to create, read, write and manipulate the vector data. This library is an extension of pandas (a data analysis) library, where the spatial information is stored in the <font color=blue> **geometry** </font> column. Each feature of the shapefile is represented by the dataframe row. "
   ]
  },
  {
   "cell_type": "code",
   "execution_count": 4,
   "metadata": {
    "collapsed": true
   },
   "outputs": [],
   "source": [
    "import geopandas as gpd\n",
    "\n",
    "vectorpath = os.path.join(basedir, \"gdal_mask\", \"vector\", \"wshed_3380500.shp\")\n",
    "src = gpd.read_file(vectorpath)"
   ]
  },
  {
   "cell_type": "code",
   "execution_count": 5,
   "metadata": {},
   "outputs": [
    {
     "data": {
      "text/html": [
       "<div>\n",
       "<style>\n",
       "    .dataframe thead tr:only-child th {\n",
       "        text-align: right;\n",
       "    }\n",
       "\n",
       "    .dataframe thead th {\n",
       "        text-align: left;\n",
       "    }\n",
       "\n",
       "    .dataframe tbody tr th {\n",
       "        vertical-align: top;\n",
       "    }\n",
       "</style>\n",
       "<table border=\"1\" class=\"dataframe\">\n",
       "  <thead>\n",
       "    <tr style=\"text-align: right;\">\n",
       "      <th></th>\n",
       "      <th>Area</th>\n",
       "      <th>GRIDCODE</th>\n",
       "      <th>ID</th>\n",
       "      <th>Land_Use</th>\n",
       "      <th>geometry</th>\n",
       "    </tr>\n",
       "  </thead>\n",
       "  <tbody>\n",
       "    <tr>\n",
       "      <th>0</th>\n",
       "      <td>1180.7037</td>\n",
       "      <td>3380500</td>\n",
       "      <td>2</td>\n",
       "      <td>41(28), 81(25), 82(37)</td>\n",
       "      <td>POLYGON ((343165.6435455771 4293645, 343195.64...</td>\n",
       "    </tr>\n",
       "  </tbody>\n",
       "</table>\n",
       "</div>"
      ],
      "text/plain": [
       "        Area  GRIDCODE  ID                Land_Use  \\\n",
       "0  1180.7037   3380500   2  41(28), 81(25), 82(37)   \n",
       "\n",
       "                                            geometry  \n",
       "0  POLYGON ((343165.6435455771 4293645, 343195.64...  "
      ]
     },
     "execution_count": 5,
     "metadata": {},
     "output_type": "execute_result"
    }
   ],
   "source": [
    "# Get the Shapefile VAT table as geopandas dataframe\n",
    "src"
   ]
  },
  {
   "cell_type": "code",
   "execution_count": 6,
   "metadata": {},
   "outputs": [
    {
     "data": {
      "text/plain": [
       "{'init': 'epsg:26716'}"
      ]
     },
     "execution_count": 6,
     "metadata": {},
     "output_type": "execute_result"
    }
   ],
   "source": [
    "# Get the coordinate reference system of the dataframe\n",
    "src.crs"
   ]
  },
  {
   "cell_type": "markdown",
   "metadata": {},
   "source": [
    "## <font color= green> Fiona </font> library in Python\n",
    "**Fiona** is another library that is used to create, read, write and manipulate the vector data. Fiona provides an API to the the underlying OGR library."
   ]
  },
  {
   "cell_type": "code",
   "execution_count": 33,
   "metadata": {
    "collapsed": true
   },
   "outputs": [],
   "source": [
    "import fiona\n",
    "\n",
    "vectorpath = os.path.join(basedir, \"gdal_mask\", \"vector\", \"wshed_3380500.shp\")\n",
    "vect_src = fiona.open(vectorpath)"
   ]
  },
  {
   "cell_type": "code",
   "execution_count": 35,
   "metadata": {},
   "outputs": [
    {
     "data": {
      "text/plain": [
       "{'crs': {'init': 'epsg:26716'},\n",
       " 'crs_wkt': 'PROJCS[\"NAD_1927_UTM_Zone_16N\",GEOGCS[\"GCS_North_American_1927\",DATUM[\"North_American_Datum_1927\",SPHEROID[\"Clarke_1866\",6378206.4,294.9786982]],PRIMEM[\"Greenwich\",0.0],UNIT[\"Degree\",0.0174532925199433],AUTHORITY[\"EPSG\",\"4267\"]],PROJECTION[\"Transverse_Mercator\"],PARAMETER[\"false_easting\",500000.0],PARAMETER[\"false_northing\",0.0],PARAMETER[\"central_meridian\",-87.0],PARAMETER[\"scale_factor\",0.9996],PARAMETER[\"latitude_of_origin\",0.0],UNIT[\"Meter\",1.0],AUTHORITY[\"EPSG\",\"26716\"]]',\n",
       " 'driver': 'ESRI Shapefile',\n",
       " 'schema': {'geometry': 'Polygon',\n",
       "  'properties': OrderedDict([('ID', 'int:10'),\n",
       "               ('GRIDCODE', 'int:10'),\n",
       "               ('Area', 'float:19.11'),\n",
       "               ('Land_Use', 'str:80')])}}"
      ]
     },
     "execution_count": 35,
     "metadata": {},
     "output_type": "execute_result"
    }
   ],
   "source": [
    "# Metadata of the shapefile\n",
    "vect_src.meta"
   ]
  },
  {
   "cell_type": "code",
   "execution_count": 8,
   "metadata": {},
   "outputs": [
    {
     "data": {
      "text/plain": [
       "'ESRI Shapefile'"
      ]
     },
     "execution_count": 8,
     "metadata": {},
     "output_type": "execute_result"
    }
   ],
   "source": [
    "# Driver of the shapefile\n",
    "vect_src.driver"
   ]
  },
  {
   "cell_type": "code",
   "execution_count": 9,
   "metadata": {},
   "outputs": [
    {
     "name": "stdout",
     "output_type": "stream",
     "text": [
      "{'geometry': 'Polygon',\n",
      " 'properties': OrderedDict([('ID', 'int:10'),\n",
      "                            ('GRIDCODE', 'int:10'),\n",
      "                            ('Area', 'float:19.11'),\n",
      "                            ('Land_Use', 'str:80')])}\n"
     ]
    }
   ],
   "source": [
    "#Schema of the shapefile\n",
    "pprint(vect_src.schema)"
   ]
  },
  {
   "cell_type": "code",
   "execution_count": 10,
   "metadata": {},
   "outputs": [
    {
     "data": {
      "text/plain": [
       "{'init': 'epsg:26716'}"
      ]
     },
     "execution_count": 10,
     "metadata": {},
     "output_type": "execute_result"
    }
   ],
   "source": [
    "#CRS of the shapefile\n",
    "vect_src.crs"
   ]
  },
  {
   "cell_type": "code",
   "execution_count": 11,
   "metadata": {},
   "outputs": [
    {
     "data": {
      "text/plain": [
       "1"
      ]
     },
     "execution_count": 11,
     "metadata": {},
     "output_type": "execute_result"
    }
   ],
   "source": [
    "# Number of features in the shapefile\n",
    "len(list(vect_src))"
   ]
  },
  {
   "cell_type": "code",
   "execution_count": 12,
   "metadata": {},
   "outputs": [
    {
     "data": {
      "text/plain": [
       "(334165.64354557707, 4242975.0, 366415.64354557707, 4296765.0)"
      ]
     },
     "execution_count": 12,
     "metadata": {},
     "output_type": "execute_result"
    }
   ],
   "source": [
    "# The extent of the shapefile\n",
    "vect_src.bounds"
   ]
  },
  {
   "cell_type": "code",
   "execution_count": 13,
   "metadata": {},
   "outputs": [
    {
     "name": "stdout",
     "output_type": "stream",
     "text": [
      "dict_keys(['geometry', 'type', 'properties', 'id'])\n"
     ]
    }
   ],
   "source": [
    "# Get the first feature of the shapefile\n",
    "for feature in vect_src:\n",
    "    pprint(feature.keys())"
   ]
  },
  {
   "cell_type": "code",
   "execution_count": 14,
   "metadata": {},
   "outputs": [
    {
     "name": "stdout",
     "output_type": "stream",
     "text": [
      "OrderedDict([('ID', 2),\n",
      "             ('GRIDCODE', 3380500),\n",
      "             ('Area', 1180.7037),\n",
      "             ('Land_Use', '41(28), 81(25), 82(37)')])\n"
     ]
    }
   ],
   "source": [
    "# Get the properties of the first feature\n",
    "pprint(feature['properties'])"
   ]
  },
  {
   "cell_type": "code",
   "execution_count": 53,
   "metadata": {},
   "outputs": [],
   "source": [
    "# Get the geometry of the first feature\n",
    "pprint(feature['geometry'])"
   ]
  },
  {
   "cell_type": "markdown",
   "metadata": {},
   "source": [
    "Note: You need to close the file after you are done with it. "
   ]
  },
  {
   "cell_type": "code",
   "execution_count": 17,
   "metadata": {},
   "outputs": [],
   "source": [
    "vect_src.close()"
   ]
  },
  {
   "cell_type": "markdown",
   "metadata": {},
   "source": [
    "## <font color= green> Rasterio </font> library in Python"
   ]
  },
  {
   "cell_type": "code",
   "execution_count": 31,
   "metadata": {
    "collapsed": true
   },
   "outputs": [],
   "source": [
    "import rasterio\n",
    "\n",
    "rasterpath = os.path.join(basedir, \"gdal_mask\", \"raster\", \"wshed_5597000_mask.tif\")\n",
    "rast_src = rasterio.open(rasterpath)"
   ]
  },
  {
   "cell_type": "code",
   "execution_count": 36,
   "metadata": {},
   "outputs": [
    {
     "data": {
      "text/plain": [
       "{'affine': Affine(29.99893528817564, 0.0, 587020.8088082994,\n",
       "       0.0, -29.99484375070318, 1741078.1096866282),\n",
       " 'count': 1,\n",
       " 'crs': CRS({'proj': 'aea', 'no_defs': True, 'lat_1': 29.5, 'x_0': 0, 'lon_0': -96, 'y_0': 0, 'units': 'm', 'lat_0': 23, 'datum': 'NAD83', 'lat_2': 45.5}),\n",
       " 'driver': 'GTiff',\n",
       " 'dtype': 'uint8',\n",
       " 'height': 2333,\n",
       " 'nodata': 255.0,\n",
       " 'transform': (587020.8088082994,\n",
       "  29.99893528817564,\n",
       "  0.0,\n",
       "  1741078.1096866282,\n",
       "  0.0,\n",
       "  -29.99484375070318),\n",
       " 'width': 1772}"
      ]
     },
     "execution_count": 36,
     "metadata": {},
     "output_type": "execute_result"
    }
   ],
   "source": [
    "# Metadata of the raster file\n",
    "rast_src.meta"
   ]
  },
  {
   "cell_type": "code",
   "execution_count": 19,
   "metadata": {},
   "outputs": [
    {
     "data": {
      "text/plain": [
       "'GTiff'"
      ]
     },
     "execution_count": 19,
     "metadata": {},
     "output_type": "execute_result"
    }
   ],
   "source": [
    "# Driver of the raster\n",
    "rast_src.driver"
   ]
  },
  {
   "cell_type": "code",
   "execution_count": 20,
   "metadata": {},
   "outputs": [
    {
     "data": {
      "text/plain": [
       "CRS({'proj': 'aea', 'no_defs': True, 'lat_1': 29.5, 'x_0': 0, 'lon_0': -96, 'y_0': 0, 'units': 'm', 'lat_0': 23, 'datum': 'NAD83', 'lat_2': 45.5})"
      ]
     },
     "execution_count": 20,
     "metadata": {},
     "output_type": "execute_result"
    }
   ],
   "source": [
    "# CRS of the raster\n",
    "rast_src.get_crs()"
   ]
  },
  {
   "cell_type": "code",
   "execution_count": 22,
   "metadata": {},
   "outputs": [
    {
     "name": "stdout",
     "output_type": "stream",
     "text": [
      "Affine(29.99893528817564, 0.0, 587020.8088082994,\n",
      "       0.0, -29.99484375070318, 1741078.1096866282)\n"
     ]
    }
   ],
   "source": [
    "# Affine of the raster\n",
    "pprint(rast_src.affine)"
   ]
  },
  {
   "cell_type": "code",
   "execution_count": 25,
   "metadata": {},
   "outputs": [
    {
     "data": {
      "text/plain": [
       "1"
      ]
     },
     "execution_count": 25,
     "metadata": {},
     "output_type": "execute_result"
    }
   ],
   "source": [
    "# Number of bands in the raster\n",
    "rast_src.count"
   ]
  },
  {
   "cell_type": "code",
   "execution_count": 27,
   "metadata": {},
   "outputs": [
    {
     "name": "stdout",
     "output_type": "stream",
     "text": [
      "BoundingBox(left=587020.8088082994, bottom=1671100.1392162377, right=640178.9221389466, top=1741078.1096866282)\n"
     ]
    }
   ],
   "source": [
    "# The extent of the raster\n",
    "pprint(rast_src.bounds)"
   ]
  },
  {
   "cell_type": "code",
   "execution_count": 30,
   "metadata": {},
   "outputs": [
    {
     "data": {
      "text/plain": [
       "(2333, 1772)"
      ]
     },
     "execution_count": 30,
     "metadata": {},
     "output_type": "execute_result"
    }
   ],
   "source": [
    "# Shape of the raster\n",
    "rast_src.shape"
   ]
  },
  {
   "cell_type": "code",
   "execution_count": 38,
   "metadata": {},
   "outputs": [
    {
     "data": {
      "text/plain": [
       "(255.0,)"
      ]
     },
     "execution_count": 38,
     "metadata": {},
     "output_type": "execute_result"
    }
   ],
   "source": [
    "# Value representing no data in raster\n",
    "rast_src.nodatavals"
   ]
  },
  {
   "cell_type": "code",
   "execution_count": 44,
   "metadata": {},
   "outputs": [
    {
     "data": {
      "text/plain": [
       "(29.99893528817564, 29.99484375070318)"
      ]
     },
     "execution_count": 44,
     "metadata": {},
     "output_type": "execute_result"
    }
   ],
   "source": [
    "# Resolution of the raster\n",
    "rast_src.res"
   ]
  },
  {
   "cell_type": "code",
   "execution_count": 51,
   "metadata": {},
   "outputs": [
    {
     "data": {
      "text/plain": [
       "array([[255, 255, 255, ..., 255, 255, 255],\n",
       "       [255, 255, 255, ..., 255, 255, 255],\n",
       "       [255, 255, 255, ..., 255, 255, 255],\n",
       "       ..., \n",
       "       [255, 255, 255, ..., 255, 255, 255],\n",
       "       [255, 255, 255, ..., 255, 255, 255],\n",
       "       [255, 255, 255, ..., 255, 255, 255]], dtype=uint8)"
      ]
     },
     "execution_count": 51,
     "metadata": {},
     "output_type": "execute_result"
    }
   ],
   "source": [
    "# Read the data from the first band\n",
    "band = rast_src.read(1)\n",
    "band.view()"
   ]
  }
 ],
 "metadata": {
  "kernelspec": {
   "display_name": "Python 3",
   "language": "python",
   "name": "python3"
  },
  "language_info": {
   "codemirror_mode": {
    "name": "ipython",
    "version": 3
   },
   "file_extension": ".py",
   "mimetype": "text/x-python",
   "name": "python",
   "nbconvert_exporter": "python",
   "pygments_lexer": "ipython3",
   "version": "3.5.4"
  }
 },
 "nbformat": 4,
 "nbformat_minor": 2
}
